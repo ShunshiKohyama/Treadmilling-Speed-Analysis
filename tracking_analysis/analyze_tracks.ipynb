{
 "cells": [
  {
   "cell_type": "markdown",
   "metadata": {},
   "source": [
    "## Trackmate Trajectory Analysis\n",
    "\n",
    "(1) Velocities Distribuition Directly from Spot Displacement <br>\n",
    "(2) Velocitiy distribution from fitting MSD curves individually <br>\n",
    "(3) Average velocity from fitting a mean MSD curve <br>\n",
    "(4) Directionality from velocity auto-correlation analysis"
   ]
  },
  {
   "cell_type": "markdown",
   "metadata": {},
   "source": [
    "### Core Function\n",
    "** Run the cell below to call all the necessary functions <br> **\n",
    "** At the bottom, one can run the analysis for a single xml file or in batch **"
   ]
  },
  {
   "cell_type": "code",
   "execution_count": 14,
   "metadata": {},
   "outputs": [],
   "source": [
    "from analyze_tracks import read, msd, velocity, utils\n",
    "import pandas as pd\n",
    "from matplotlib import pyplot as plt\n",
    "from matplotlib.backends.backend_pdf import PdfPages\n",
    "%matplotlib inline\n",
    "\n",
    "#packages for batch processing\n",
    "import os\n",
    "import glob\n",
    "import sys\n",
    "\n",
    "# packages for a progress bar\n",
    "from ipywidgets import FloatProgress\n",
    "from IPython.display import display\n",
    "\n",
    "# inline display\n",
    "#get_ipython().magic('matplotlib inline')\n",
    "\n",
    "# Needed for autoreload when ext python module has changed\n",
    "get_ipython().magic('matplotlib qt5')\n",
    "get_ipython().magic('reload_ext autoreload')\n",
    "get_ipython().magic('autoreload 2')\n",
    "\n",
    "def analyze_tracks(filename, clip = 0.5, plot_every = 20):\n",
    "    '''runs all type of analyses and saves all plots into a\n",
    "    single pdf file and all data as sheets of one excel book'''\n",
    "    \n",
    "    plt.close(\"all\")\n",
    "    \n",
    "    table_tracks, frame_interval, time_units, space_units = read.tm_xml_tracks(filename)\n",
    "\n",
    "    print('\\nPhysical units: {}, {}'.format(space_units, time_units))\n",
    "    print('Number of tracks: {}'.format(len(table_tracks.TRACK_ID.unique())))\n",
    "    print('Frame interval: {} \\n'.format(frame_interval))\n",
    "\n",
    "    # savename = filename.split(sep='/')[-1][:-4]\n",
    "    with PdfPages(filename[:-4] + '_All_figs.pdf') as pdf:\n",
    "        \n",
    "        #table_tracks = table_tracks[:1000] # temporary hack to analyze only a few trajectories\n",
    "        \n",
    "        velo_dist = velocity.velocities_distribution(table_tracks, frame_interval);\n",
    "        pdf.savefig(bbox_inches=\"tight\")\n",
    "            \n",
    "        all_msds_vel, all_msd_curves = msd.single_track_analysis(table_tracks, frame_interval, plot_every);\n",
    "        pdf.savefig(bbox_inches=\"tight\")\n",
    "\n",
    "        V, D, msd_fit = msd.msd_velocity_analysis(table_tracks, frame_interval, clip = 0.5)\n",
    "        pdf.savefig(bbox_inches=\"tight\")\n",
    "        \n",
    "        vcorr_data = velocity.compute_directionality(table_tracks, frame_interval)\n",
    "        pdf.savefig(bbox_inches=\"tight\")\n",
    "                   \n",
    "        with pd.ExcelWriter(filename[:-4] + '_Trackmate_Trajectory_Analysis.xlsx') as excel_sheet:\n",
    "            \n",
    "            pd.Series(velo_dist).to_excel(excel_sheet, sheet_name = 'vels_dist', index=False, header = False)\n",
    "            pd.Series(all_msds_vel).to_excel(excel_sheet, sheet_name = 'msd_vels_hist', index=False, header = False)\n",
    "            all_msd_curves.to_excel(excel_sheet, sheet_name = 'all_msd_curves', index=False, header = False)\n",
    "            msd_fit.to_excel(excel_sheet, sheet_name = 'averaged_MSD ', index=False)\n",
    "            vcorr_data.to_excel(excel_sheet, sheet_name = 'vcorr', index=False)\n",
    "    \n",
    "    print('Done!')\n",
    "\n",
    "# small command to prevent print statments during batch processing\n",
    "\n",
    "class HiddenPrints:\n",
    "    def __enter__(self):\n",
    "        self._original_stdout = sys.stdout\n",
    "        sys.stdout = open(os.devnull, 'w')\n",
    "\n",
    "    def __exit__(self, exc_type, exc_val, exc_tb):\n",
    "        sys.stdout = self._original_stdout\n",
    "\n",
    "# running in batch\n",
    "def analyze_tracks_batch(files_dir, clip = 0.5):\n",
    "    \n",
    "    data_path = os.path.join(files_dir,'*Tracks.xml')\n",
    "    files = glob.glob(data_path)\n",
    "    \n",
    "    if len(files) == 0:\n",
    "        print('File directory is empty!')\n",
    "    \n",
    "    else:\n",
    "        \n",
    "        bar = FloatProgress(description = 'Progress ...', bar_style= 'info', max = len(files) )\n",
    "        display(bar)\n",
    "\n",
    "        for i,xml_file in enumerate(files):\n",
    "\n",
    "            print('Processing '+ xml_file.split('\\\\')[-1])\n",
    "            \n",
    "            try:\n",
    "                \n",
    "                with HiddenPrints(): analyze_tracks(xml_file) #this blocks print statments while running the function\n",
    "                bar.value += 1\n",
    "            \n",
    "            except:\n",
    "                print ('\\t !!! This file cannot be processed !!!')\n",
    "                continue\n",
    "\n",
    "    print('\\nAll Done! Yay!')"
   ]
  },
  {
   "cell_type": "markdown",
   "metadata": {},
   "source": [
    "### Analyze Trajectories\n",
    "** Select a TrackMate XML File <br> **\n",
    "** Plots the output of each analysis and saves figs (pdf) & data (excel) **"
   ]
  },
  {
   "cell_type": "code",
   "execution_count": 15,
   "metadata": {
    "scrolled": false
   },
   "outputs": [
    {
     "name": "stdout",
     "output_type": "stream",
     "text": [
      "\n",
      "Physical units: micron, sec.\n",
      "Number of tracks: 229\n",
      "Frame interval: 1.0 \n",
      "\n",
      "Processing Velocities Distribution ...\n",
      "Processing Single Track MSD Analysis ...\n"
     ]
    },
    {
     "name": "stderr",
     "output_type": "stream",
     "text": [
      "C:\\ProgramData\\Anaconda3\\lib\\site-packages\\scipy\\optimize\\minpack.py:779: OptimizeWarning: Covariance of the parameters could not be estimated\n",
      "  category=OptimizeWarning)\n"
     ]
    },
    {
     "name": "stdout",
     "output_type": "stream",
     "text": [
      "Processing Averaged MSD Analysis ...\n",
      "Processing Velocity Autocorrelation ...\n",
      "Done!\n"
     ]
    }
   ],
   "source": [
    "filename = 'C:/Users/pcaldas/Desktop/Data Analysis/Methods Paper/alberts data/C2-Grow_Tracks.xml'\n",
    "analyze_tracks(filename, clip = 0.5, plot_every = 20)"
   ]
  },
  {
   "cell_type": "markdown",
   "metadata": {},
   "source": [
    "### Analyze Trajectories In Batch\n",
    "** Select a folder containing TrackMate XML Files <br> **\n",
    "** Save all figs (pdf) all data (excel) **"
   ]
  },
  {
   "cell_type": "code",
   "execution_count": null,
   "metadata": {
    "collapsed": true
   },
   "outputs": [],
   "source": [
    "files_dir = \"ipynb/files\"\n",
    "analyze_tracks_batch(files_dir, clip = 0.5)"
   ]
  },
  {
   "cell_type": "code",
   "execution_count": null,
   "metadata": {
    "collapsed": true
   },
   "outputs": [],
   "source": []
  },
  {
   "cell_type": "code",
   "execution_count": null,
   "metadata": {
    "collapsed": true
   },
   "outputs": [],
   "source": []
  }
 ],
 "metadata": {
  "kernelspec": {
   "display_name": "Python 3",
   "language": "python",
   "name": "python3"
  },
  "language_info": {
   "codemirror_mode": {
    "name": "ipython",
    "version": 3
   },
   "file_extension": ".py",
   "mimetype": "text/x-python",
   "name": "python",
   "nbconvert_exporter": "python",
   "pygments_lexer": "ipython3",
   "version": "3.6.4"
  }
 },
 "nbformat": 4,
 "nbformat_minor": 2
}
