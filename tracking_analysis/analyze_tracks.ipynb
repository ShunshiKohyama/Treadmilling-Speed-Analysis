{
 "cells": [
  {
   "cell_type": "markdown",
   "metadata": {},
   "source": [
    "## Trackmate Tracks Analysis\n",
    "The following code coomputes:\n",
    " * Velocities Distribuition Directly from Spot Displacement \n",
    " * Velocitiy distribution from fitting MSD curves individually \n",
    " * Average velocity from fitting a mean MSD curve\n",
    " * Directionality from velocity auto-correlation analysis\n",
    "\n",
    "and saves results as xlsx and the plots as pdf"
   ]
  },
  {
   "cell_type": "markdown",
   "metadata": {},
   "source": [
    "### Import function\n",
    " * Run the cell below to call all the necessary functions\n",
    " * At the bottom, one can run the analysis for a single xml file or in batch **"
   ]
  },
  {
   "cell_type": "code",
   "execution_count": 6,
   "metadata": {},
   "outputs": [],
   "source": [
    "from analyze_tracks import read, msd, velocity, utils, process\n",
    "\n",
    "# Needed for autoreload when ext python module has changed\n",
    "get_ipython().magic('matplotlib qt5')\n",
    "get_ipython().magic('reload_ext autoreload')\n",
    "get_ipython().magic('autoreload 2')\n"
   ]
  },
  {
   "cell_type": "markdown",
   "metadata": {},
   "source": [
    "### Analyze tracks from single xml TrackMate file \n",
    " * Select a TrackMate XML File `filename`\n",
    " * Plots the output of each analysis and saves figs (pdf) & data (excel) "
   ]
  },
  {
   "cell_type": "code",
   "execution_count": 8,
   "metadata": {
    "scrolled": false
   },
   "outputs": [
    {
     "name": "stdout",
     "output_type": "stream",
     "text": [
      "\n",
      "Physical units: micron, sec\n",
      "Number of tracks: 362\n",
      "Frame interval: 2.0 \n",
      "\n",
      "Processing Velocities Distribution ...\n",
      "Processing Single Track MSD Analysis ...\n",
      "Processing Averaged MSD Analysis ...\n",
      "Processing Velocity Autocorrelation ...\n",
      "Done!\n"
     ]
    }
   ],
   "source": [
    "filename = 'example/example_growth_Tracks.xml'\n",
    "process.analyze_tracks(filename, clip = 0.5, plot_every = 20)"
   ]
  },
  {
   "cell_type": "markdown",
   "metadata": {},
   "source": [
    "### Analyze tracks in batch (entire directory of TrackMate xml files)\n",
    " * Select a folder containing TrackMate XML Files\n",
    " * Save all figs (pdf) all data (excel)"
   ]
  },
  {
   "cell_type": "code",
   "execution_count": 9,
   "metadata": {
    "collapsed": true
   },
   "outputs": [
    {
     "data": {
      "application/vnd.jupyter.widget-view+json": {
       "model_id": "520e9fb9664a42fba9ec470db0d0a9ff",
       "version_major": 2,
       "version_minor": 0
      },
      "text/plain": [
       "HBox(children=(IntProgress(value=0, description='Progress ...', max=1, style=ProgressStyle(description_width='…"
      ]
     },
     "metadata": {},
     "output_type": "display_data"
    },
    {
     "name": "stdout",
     "output_type": "stream",
     "text": [
      "Processing example_growth_Tracks.xml\n",
      "\n",
      "\n",
      "All Done! Yay!\n"
     ]
    }
   ],
   "source": [
    "files_dir = \"example/\"\n",
    "process.analyze_tracks_batch(files_dir, clip = 0.5)"
   ]
  }
 ],
 "metadata": {
  "kernelspec": {
   "display_name": "Python 3",
   "language": "python",
   "name": "python3"
  },
  "language_info": {
   "codemirror_mode": {
    "name": "ipython",
    "version": 3
   },
   "file_extension": ".py",
   "mimetype": "text/x-python",
   "name": "python",
   "nbconvert_exporter": "python",
   "pygments_lexer": "ipython3",
   "version": "3.6.4"
  }
 },
 "nbformat": 4,
 "nbformat_minor": 2
}
