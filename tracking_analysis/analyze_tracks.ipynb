{
 "cells": [
  {
   "cell_type": "markdown",
   "metadata": {},
   "source": [
    "## Analyze Trackmate Tracks\n",
    "The following code coomputes:\n",
    " * Velocities Distribuition Directly from Spot Displacement \n",
    " * Velocitiy distribution from fitting MSD curves individually \n",
    " * Average velocity from fitting a mean MSD curve\n",
    " * Directionality from velocity auto-correlation analysis\n",
    "\n",
    "saves all figures and data"
   ]
  },
  {
   "cell_type": "markdown",
   "metadata": {},
   "source": [
    "### Analyze TracMate XML File \n",
    " * Select a TrackMate XML File ( e.g  \"path / filename.xml \" )\n",
    " * Plots the output of each analysis and saves figs (pdf) & data (excel)"
   ]
  },
  {
   "cell_type": "code",
   "execution_count": null,
   "metadata": {},
   "outputs": [],
   "source": [
    "from analyze_tracks import read, msd, velocity, utils, process\n",
    "\n",
    "# Needed for autoreload when ext python module has changed\n",
    "get_ipython().magic('matplotlib qt5')\n",
    "get_ipython().magic('reload_ext autoreload')\n",
    "get_ipython().magic('autoreload 2')\n",
    "\n",
    "filename = 'example/example_growth_Tracks.xml'\n",
    "process.analyze_tracks(filename, clip = 0.5, plot_every = 20)\n"
   ]
  },
  {
   "cell_type": "markdown",
   "metadata": {},
   "source": [
    "### In Batch Analysis\n",
    " * Select a folder containing TrackMate XML Files\n",
    " * Saves all figs (pdf) all data (excel)"
   ]
  },
  {
   "cell_type": "code",
   "execution_count": null,
   "metadata": {
    "collapsed": true
   },
   "outputs": [],
   "source": [
    "files_dir = \"example/\"\n",
    "process.analyze_tracks_batch(files_dir, clip = 0.5)"
   ]
  }
 ],
 "metadata": {
  "kernelspec": {
   "display_name": "Python 3",
   "language": "python",
   "name": "python3"
  },
  "language_info": {
   "codemirror_mode": {
    "name": "ipython",
    "version": 3
   },
   "file_extension": ".py",
   "mimetype": "text/x-python",
   "name": "python",
   "nbconvert_exporter": "python",
   "pygments_lexer": "ipython3",
   "version": "3.6.7"
  }
 },
 "nbformat": 4,
 "nbformat_minor": 2
}
