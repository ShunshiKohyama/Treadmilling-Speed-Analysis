{
 "cells": [
  {
   "cell_type": "markdown",
   "metadata": {},
   "source": [
    "## Analyze Trackmate Trajectories\n",
    "<hr>\n",
    "\n",
    "The following script computes:\n",
    " * velocity distribuition directly from spot displacement\n",
    " * mean velocity retrieved from a fitting a weighted-MSD curve || quadratic fit (assuming directional movement)\n",
    " * mean velocities distribution from fitting MSD curves individually || quadratic fit (assuming directional movement)\n",
    " * directional persistence || based on velocity auto-correlation analysis\n",
    "\n",
    "All plots and tables are saved as a single pdf and excel book (respectively) <br>\n",
    "<hr>"
   ]
  },
  {
   "cell_type": "markdown",
   "metadata": {},
   "source": [
    "### Analyze a single XML file "
   ]
  },
  {
   "cell_type": "code",
   "execution_count": null,
   "metadata": {},
   "outputs": [],
   "source": [
    "# import all functions for analysis\n",
    "from bkg_func import core\n",
    "\n",
    "# specify path_to_file/filename \n",
    "filename = 'examples/example_growth_Tracks (1).xml'\n",
    "\n",
    "# run specific analysis if \"True\"\n",
    "core.analyze_tracks(filename, \n",
    "                    track_displacement = True,\n",
    "                    msd_weighted = True,\n",
    "                    msd_single_track = False,\n",
    "                    directionality = False,\n",
    "                    plot_tracks = False,\n",
    "                    clip = 0.5, plot_every = 20)"
   ]
  },
  {
   "cell_type": "markdown",
   "metadata": {},
   "source": [
    "### Analyze multple XML files"
   ]
  },
  {
   "cell_type": "code",
   "execution_count": null,
   "metadata": {
    "scrolled": false
   },
   "outputs": [],
   "source": [
    "# import all functions for analysis\n",
    "from bkg_func import batch, core\n",
    "\n",
    "# write file directory to run the analysis\n",
    "files_dir = 'examples/'\n",
    "\n",
    "# specify relevant analyses with \"True\"\n",
    "batch.run_batch_processing(files_dir,\n",
    "                     track_displacement = True,\n",
    "                     msd_weighted = True,\n",
    "                     msd_single_track = True,\n",
    "                     directionality = False,\n",
    "                     plot_tracks = False,\n",
    "                     clip = 0.5, plot_every = 20)"
   ]
  },
  {
   "cell_type": "markdown",
   "metadata": {},
   "source": [
    "<hr>"
   ]
  }
 ],
 "metadata": {
  "kernelspec": {
   "display_name": "Python 3",
   "language": "python",
   "name": "python3"
  },
  "language_info": {
   "codemirror_mode": {
    "name": "ipython",
    "version": 3
   },
   "file_extension": ".py",
   "mimetype": "text/x-python",
   "name": "python",
   "nbconvert_exporter": "python",
   "pygments_lexer": "ipython3",
   "version": "3.7.1"
  }
 },
 "nbformat": 4,
 "nbformat_minor": 2
}
